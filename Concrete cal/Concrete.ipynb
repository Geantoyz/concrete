{
 "cells": [
  {
   "cell_type": "code",
   "execution_count": 1,
   "metadata": {},
   "outputs": [
    {
     "output_type": "stream",
     "name": "stdout",
     "text": "6.1611\n"
    }
   ],
   "source": [
    "qp = 2.0537*3\n",
    "print(qp)"
   ]
  },
  {
   "cell_type": "code",
   "execution_count": 2,
   "metadata": {},
   "outputs": [
    {
     "output_type": "execute_result",
     "data": {
      "text/plain": "4.368"
     },
     "metadata": {},
     "execution_count": 2
    }
   ],
   "source": [
    "qcn=1.456*3\n",
    "qcn"
   ]
  },
  {
   "cell_type": "code",
   "execution_count": 3,
   "metadata": {},
   "outputs": [
    {
     "output_type": "execute_result",
     "data": {
      "text/plain": "10.5291"
     },
     "metadata": {},
     "execution_count": 3
    }
   ],
   "source": [
    "q=qcn+qp\n",
    "q\n"
   ]
  },
  {
   "cell_type": "code",
   "execution_count": 4,
   "metadata": {},
   "outputs": [],
   "source": [
    "l0=5.820"
   ]
  },
  {
   "cell_type": "code",
   "execution_count": 5,
   "metadata": {},
   "outputs": [
    {
     "output_type": "execute_result",
     "data": {
      "text/plain": "44.58073585500001"
     },
     "metadata": {},
     "execution_count": 5
    }
   ],
   "source": [
    "Mmax=(q*l0**2)/8\n",
    "Mmax"
   ]
  },
  {
   "cell_type": "code",
   "execution_count": 6,
   "metadata": {},
   "outputs": [
    {
     "output_type": "execute_result",
     "data": {
      "text/plain": "30.639681"
     },
     "metadata": {},
     "execution_count": 6
    }
   ],
   "source": [
    "Vmax=(q*l0)/2\n",
    "Vmax"
   ]
  },
  {
   "cell_type": "code",
   "execution_count": 7,
   "metadata": {},
   "outputs": [],
   "source": [
    "beff=1.31\n"
   ]
  },
  {
   "cell_type": "code",
   "execution_count": 8,
   "metadata": {},
   "outputs": [
    {
     "output_type": "execute_result",
     "data": {
      "text/plain": "17000000"
     },
     "metadata": {},
     "execution_count": 8
    }
   ],
   "source": [
    "fcd=17*10**6\n",
    "fcd"
   ]
  },
  {
   "cell_type": "code",
   "execution_count": 9,
   "metadata": {},
   "outputs": [
    {
     "output_type": "execute_result",
     "data": {
      "text/plain": "0.26"
     },
     "metadata": {},
     "execution_count": 9
    }
   ],
   "source": [
    "d=0.3-0.04\n",
    "d"
   ]
  },
  {
   "cell_type": "code",
   "execution_count": 10,
   "metadata": {},
   "outputs": [
    {
     "output_type": "execute_result",
     "data": {
      "text/plain": "0.02961285770320143"
     },
     "metadata": {},
     "execution_count": 10
    }
   ],
   "source": [
    "Alpha=(Mmax*10**3)/(beff*fcd*d**2)\n",
    "Alpha"
   ]
  },
  {
   "cell_type": "code",
   "execution_count": 11,
   "metadata": {},
   "outputs": [
    {
     "output_type": "execute_result",
     "data": {
      "text/plain": "10.4"
     },
     "metadata": {},
     "execution_count": 11
    }
   ],
   "source": [
    "xi=0.04*260\n",
    "xi"
   ]
  },
  {
   "cell_type": "code",
   "execution_count": 12,
   "metadata": {},
   "outputs": [
    {
     "output_type": "execute_result",
     "data": {
      "text/plain": "229.5"
     },
     "metadata": {},
     "execution_count": 12
    }
   ],
   "source": [
    "765*0.3\n"
   ]
  },
  {
   "cell_type": "code",
   "execution_count": 13,
   "metadata": {},
   "outputs": [
    {
     "output_type": "execute_result",
     "data": {
      "text/plain": "688.5"
     },
     "metadata": {},
     "execution_count": 13
    }
   ],
   "source": [
    "765*0.9\n"
   ]
  },
  {
   "cell_type": "code",
   "execution_count": 14,
   "metadata": {},
   "outputs": [
    {
     "output_type": "execute_result",
     "data": {
      "text/plain": "637.5"
     },
     "metadata": {},
     "execution_count": 14
    }
   ],
   "source": [
    "fpd=765/1.2\n",
    "fpd"
   ]
  },
  {
   "cell_type": "code",
   "execution_count": 15,
   "metadata": {},
   "outputs": [],
   "source": [
    "Sigma = 600"
   ]
  },
  {
   "cell_type": "code",
   "execution_count": 16,
   "metadata": {},
   "outputs": [],
   "source": [
    "Ep=190000"
   ]
  },
  {
   "cell_type": "code",
   "execution_count": 17,
   "metadata": {},
   "outputs": [
    {
     "output_type": "execute_result",
     "data": {
      "text/plain": "2.6184210526315788"
     },
     "metadata": {},
     "execution_count": 17
    }
   ],
   "source": [
    "Eso=((fpd+400-0.9*Sigma)/Ep)*1000\n",
    "Eso\n"
   ]
  },
  {
   "cell_type": "code",
   "execution_count": 18,
   "metadata": {},
   "outputs": [],
   "source": [
    "Ecu3 = 3"
   ]
  },
  {
   "cell_type": "code",
   "execution_count": 19,
   "metadata": {},
   "outputs": [
    {
     "output_type": "execute_result",
     "data": {
      "text/plain": "7.8620689655172376"
     },
     "metadata": {},
     "execution_count": 19
    }
   ],
   "source": [
    "XiR=(Ecu3)/(Ecu3-Eso)\n",
    "XiR"
   ]
  },
  {
   "cell_type": "code",
   "execution_count": 20,
   "metadata": {},
   "outputs": [],
   "source": [
    "hf=0.03\n"
   ]
  },
  {
   "cell_type": "code",
   "execution_count": 21,
   "metadata": {},
   "outputs": [
    {
     "output_type": "execute_result",
     "data": {
      "text/plain": "163.6845"
     },
     "metadata": {},
     "execution_count": 21
    }
   ],
   "source": [
    "Mf=(beff*hf*fcd*(d-0.5*hf))/1000\n",
    "Mf"
   ]
  },
  {
   "cell_type": "code",
   "execution_count": 22,
   "metadata": {},
   "outputs": [],
   "source": [
    "b=0.18\n"
   ]
  },
  {
   "cell_type": "code",
   "execution_count": 23,
   "metadata": {},
   "outputs": [],
   "source": [
    "Zeta=0.984"
   ]
  },
  {
   "cell_type": "code",
   "execution_count": 24,
   "metadata": {},
   "outputs": [
    {
     "output_type": "execute_result",
     "data": {
      "text/plain": "0.00027333710931464524"
     },
     "metadata": {},
     "execution_count": 24
    }
   ],
   "source": [
    "Asp=((Mmax*10**3)/(fpd*10**6*d*Zeta))\n",
    "Asp"
   ]
  },
  {
   "cell_type": "code",
   "execution_count": 25,
   "metadata": {},
   "outputs": [],
   "source": [
    "Asfact=5.09\n"
   ]
  },
  {
   "cell_type": "code",
   "execution_count": 26,
   "metadata": {},
   "outputs": [
    {
     "output_type": "execute_result",
     "data": {
      "text/plain": "1374"
     },
     "metadata": {},
     "execution_count": 26
    }
   ],
   "source": [
    "Ab = 296*3+18*(30-3)\n",
    "Ab"
   ]
  },
  {
   "cell_type": "code",
   "execution_count": 27,
   "metadata": {},
   "outputs": [
    {
     "output_type": "execute_result",
     "data": {
      "text/plain": "0.37045123726346435"
     },
     "metadata": {},
     "execution_count": 27
    }
   ],
   "source": [
    "mu = (Asfact/Ab)*100\n",
    "mu "
   ]
  },
  {
   "cell_type": "markdown",
   "metadata": {},
   "source": [
    "Поперечне армування\n"
   ]
  },
  {
   "cell_type": "code",
   "execution_count": 28,
   "metadata": {},
   "outputs": [
    {
     "output_type": "execute_result",
     "data": {
      "text/plain": "152.7"
     },
     "metadata": {},
     "execution_count": 28
    }
   ],
   "source": [
    "Nmax = 0.5*Sigma*0.000509*1000\n",
    "Nmax"
   ]
  },
  {
   "cell_type": "code",
   "execution_count": 29,
   "metadata": {},
   "outputs": [
    {
     "output_type": "execute_result",
     "data": {
      "text/plain": "3400.0000000000005"
     },
     "metadata": {},
     "execution_count": 29
    }
   ],
   "source": [
    "R=0.2*17*1000\n",
    "R"
   ]
  },
  {
   "cell_type": "code",
   "execution_count": 30,
   "metadata": {},
   "outputs": [
    {
     "output_type": "stream",
     "name": "stdout",
     "text": "True\n"
    },
    {
     "output_type": "execute_result",
     "data": {
      "text/plain": "1111.353711790393"
     },
     "metadata": {},
     "execution_count": 30
    }
   ],
   "source": [
    "R0=(Nmax)/0.1374\n",
    "print(R0<R)\n",
    "R0"
   ]
  },
  {
   "cell_type": "code",
   "execution_count": 31,
   "metadata": {},
   "outputs": [
    {
     "output_type": "execute_result",
     "data": {
      "text/plain": "1.8770580193070292"
     },
     "metadata": {},
     "execution_count": 31
    }
   ],
   "source": [
    "k = 1+((200/(d*1000)))**0.5\n",
    "k"
   ]
  },
  {
   "cell_type": "code",
   "execution_count": 32,
   "metadata": {},
   "outputs": [
    {
     "output_type": "execute_result",
     "data": {
      "text/plain": "106.26591759684804"
     },
     "metadata": {},
     "execution_count": 32
    }
   ],
   "source": [
    "Crdc = 0.12\n",
    "fck = 22\n",
    "k1 = 0.15\n",
    "Sigma1 = 1111\n",
    "Vrdc = ((Crdc*k*(100*mu*fck)**(1/3)+k1*(Sigma1/1000))*180*260)/1000\n",
    "Vrdc"
   ]
  },
  {
   "cell_type": "code",
   "execution_count": 33,
   "metadata": {},
   "outputs": [
    {
     "output_type": "execute_result",
     "data": {
      "text/plain": "False"
     },
     "metadata": {},
     "execution_count": 33
    }
   ],
   "source": [
    "Vmax>Vrdc"
   ]
  },
  {
   "cell_type": "markdown",
   "metadata": {},
   "source": [
    "Полка плиты покрития \n"
   ]
  },
  {
   "cell_type": "code",
   "execution_count": 34,
   "metadata": {},
   "outputs": [
    {
     "output_type": "execute_result",
     "data": {
      "text/plain": "0.9349999999999999"
     },
     "metadata": {},
     "execution_count": 34
    }
   ],
   "source": [
    "l01=1-0.045-0.02\n",
    "l01\n"
   ]
  },
  {
   "cell_type": "code",
   "execution_count": 35,
   "metadata": {},
   "outputs": [
    {
     "output_type": "execute_result",
     "data": {
      "text/plain": "0.96"
     },
     "metadata": {},
     "execution_count": 35
    }
   ],
   "source": [
    " l02=1-0.02-0.02\n",
    " l02\n"
   ]
  },
  {
   "cell_type": "code",
   "execution_count": 36,
   "metadata": {},
   "outputs": [
    {
     "output_type": "execute_result",
     "data": {
      "text/plain": "2.9732620320855614"
     },
     "metadata": {},
     "execution_count": 36
    }
   ],
   "source": [
    "Отн1=278/(l01*100)\n",
    "Отн1"
   ]
  },
  {
   "cell_type": "code",
   "execution_count": 37,
   "metadata": {},
   "outputs": [
    {
     "output_type": "execute_result",
     "data": {
      "text/plain": "2.8958333333333335"
     },
     "metadata": {},
     "execution_count": 37
    }
   ],
   "source": [
    "Отн2=278/(l02*100)\n",
    "Отн2"
   ]
  },
  {
   "cell_type": "code",
   "execution_count": 38,
   "metadata": {},
   "outputs": [],
   "source": [
    "q=4.56\n"
   ]
  },
  {
   "cell_type": "code",
   "execution_count": 39,
   "metadata": {},
   "outputs": [
    {
     "output_type": "execute_result",
     "data": {
      "text/plain": "0.36240599999999995"
     },
     "metadata": {},
     "execution_count": 39
    }
   ],
   "source": [
    "M=(q*(l01**2))/11\n",
    "M"
   ]
  },
  {
   "cell_type": "code",
   "execution_count": 40,
   "metadata": {},
   "outputs": [
    {
     "output_type": "execute_result",
     "data": {
      "text/plain": "0.09474666666666666"
     },
     "metadata": {},
     "execution_count": 40
    }
   ],
   "source": [
    "Alpham=(M*10**3)/(fcd*1*0.015**2)\n",
    "Alpham"
   ]
  },
  {
   "cell_type": "code",
   "execution_count": 41,
   "metadata": {},
   "outputs": [
    {
     "output_type": "execute_result",
     "data": {
      "text/plain": "6.95303326810176e-05"
     },
     "metadata": {},
     "execution_count": 41
    }
   ],
   "source": [
    "fyd=365*10**6\n",
    "A=(M*10**3)/(fyd*0.952*0.015)\n",
    "A"
   ]
  },
  {
   "cell_type": "markdown",
   "metadata": {},
   "source": [
    "# Розрахунок геометричних характеристик 6.4"
   ]
  },
  {
   "cell_type": "code",
   "execution_count": 42,
   "metadata": {},
   "outputs": [
    {
     "output_type": "execute_result",
     "data": {
      "text/plain": "5.846153846153846"
     },
     "metadata": {},
     "execution_count": 42
    }
   ],
   "source": [
    "Es2=190000\n",
    "Ecm2=32.5*10**3\n",
    "Alpha22=Es2/Ecm2\n",
    "Alpha22"
   ]
  },
  {
   "cell_type": "code",
   "execution_count": 43,
   "metadata": {},
   "outputs": [
    {
     "output_type": "execute_result",
     "data": {
      "text/plain": "0.256158"
     },
     "metadata": {},
     "execution_count": 43
    }
   ],
   "source": [
    "h=0.3\n",
    "Sred=2.96*hf*(h-(hf/2))+3*(h-hf)*(h-(hf/2))\n",
    "Sred"
   ]
  },
  {
   "cell_type": "code",
   "execution_count": 44,
   "metadata": {},
   "outputs": [
    {
     "output_type": "execute_result",
     "data": {
      "text/plain": "0.9047513846153846"
     },
     "metadata": {},
     "execution_count": 44
    }
   ],
   "source": [
    "Ap=0.000509\n",
    "As1=As2=0.0002545\n",
    "Ared=2.96*hf+3*(0.3-hf)+Alpha22*Ap+Alpha22*As1+Alpha22*As2\n",
    "Ared"
   ]
  },
  {
   "cell_type": "code",
   "execution_count": 45,
   "metadata": {},
   "outputs": [
    {
     "output_type": "execute_result",
     "data": {
      "text/plain": "0.28378308431181437"
     },
     "metadata": {},
     "execution_count": 45
    }
   ],
   "source": [
    "y=(Sred+Alpha22*Ap*0.05+Alpha22*As1*0.02+Alpha22*As2*(h-0.02))/(Ared)\n",
    "y"
   ]
  },
  {
   "cell_type": "code",
   "execution_count": 46,
   "metadata": {},
   "outputs": [
    {
     "output_type": "execute_result",
     "data": {
      "text/plain": "0.23378308431181438"
     },
     "metadata": {},
     "execution_count": 46
    }
   ],
   "source": [
    "yp=y-0.05\n",
    "yp"
   ]
  },
  {
   "cell_type": "code",
   "execution_count": 47,
   "metadata": {},
   "outputs": [
    {
     "output_type": "execute_result",
     "data": {
      "text/plain": "0.26378308431181435"
     },
     "metadata": {},
     "execution_count": 47
    }
   ],
   "source": [
    "ys1=y-0.02\n",
    "ys1"
   ]
  },
  {
   "cell_type": "code",
   "execution_count": 48,
   "metadata": {},
   "outputs": [
    {
     "output_type": "execute_result",
     "data": {
      "text/plain": "0.27999999999999997"
     },
     "metadata": {},
     "execution_count": 48
    }
   ],
   "source": [
    "ys2=0.3-0.02\n",
    "ys2"
   ]
  },
  {
   "cell_type": "code",
   "execution_count": 49,
   "metadata": {},
   "outputs": [
    {
     "output_type": "execute_result",
     "data": {
      "text/plain": "137786.58426992953"
     },
     "metadata": {},
     "execution_count": 49
    }
   ],
   "source": [
    "bf=2.96\n",
    "I=((bf*hf**3)/12+bf*hf*(h-y-(hf/2))**2+((b*(h-hf)**3)/12)+b*(h-hf)*(y-((h-hf)/2))**2)*100000000\n",
    "I"
   ]
  },
  {
   "cell_type": "code",
   "execution_count": 50,
   "metadata": {},
   "outputs": [
    {
     "output_type": "execute_result",
     "data": {
      "text/plain": "154051.29847999784"
     },
     "metadata": {},
     "execution_count": 50
    }
   ],
   "source": [
    "Ired=I+((Alpha22*Ap*yp**2+Alpha22*As1*ys1**2*+Alpha22*As2*ys2**2)*100000000)\n",
    "Ired"
   ]
  },
  {
   "cell_type": "code",
   "execution_count": 51,
   "metadata": {},
   "outputs": [
    {
     "output_type": "execute_result",
     "data": {
      "text/plain": "0.5428487707559405"
     },
     "metadata": {},
     "execution_count": 51
    }
   ],
   "source": [
    "Wred=((Ired/1_000_000)/y)\n",
    "Wred"
   ]
  },
  {
   "cell_type": "code",
   "execution_count": 52,
   "metadata": {},
   "outputs": [
    {
     "output_type": "execute_result",
     "data": {
      "text/plain": "0.5999977231167309"
     },
     "metadata": {},
     "execution_count": 52
    }
   ],
   "source": [
    "r=Wred/Ared\n",
    "r"
   ]
  },
  {
   "cell_type": "markdown",
   "metadata": {},
   "source": [
    "# Розрахунок втрат І групи попереднього напруження"
   ]
  },
  {
   "cell_type": "code",
   "execution_count": 53,
   "metadata": {},
   "outputs": [
    {
     "output_type": "execute_result",
     "data": {
      "text/plain": "0.053445"
     },
     "metadata": {},
     "execution_count": 53
    }
   ],
   "source": [
    "Sigmamax=1250\n",
    "DeltaPr1=((0.1*Sigmamax-20)*Ap)\n",
    "DeltaPr1"
   ]
  },
  {
   "cell_type": "code",
   "execution_count": 54,
   "metadata": {},
   "outputs": [
    {
     "output_type": "execute_result",
     "data": {
      "text/plain": "0.0190875"
     },
     "metadata": {},
     "execution_count": 54
    }
   ],
   "source": [
    "DeltaPr2=(0.03*Sigmamax*Ap)\n",
    "DeltaPr2"
   ]
  },
  {
   "cell_type": "code",
   "execution_count": 55,
   "metadata": {},
   "outputs": [
    {
     "output_type": "execute_result",
     "data": {
      "text/plain": "0.03143075000000001"
     },
     "metadata": {},
     "execution_count": 55
    }
   ],
   "source": [
    "Alphac=1*10**-5\n",
    "DeltaPrt=(0.5*Ap*Ep*Alphac*65)\n",
    "DeltaPrt"
   ]
  },
  {
   "cell_type": "code",
   "execution_count": 56,
   "metadata": {},
   "outputs": [
    {
     "output_type": "execute_result",
     "data": {
      "text/plain": "63.66741666666667"
     },
     "metadata": {},
     "execution_count": 56
    }
   ],
   "source": [
    "Deltal=1.25+0.15*18\n",
    "l=6\n",
    "DeltaP4=(Deltal/l)*Ep*Ap\n",
    "DeltaP4"
   ]
  },
  {
   "cell_type": "code",
   "execution_count": 57,
   "metadata": {},
   "outputs": [
    {
     "output_type": "stream",
     "name": "stdout",
     "text": "P0c = 1249.915 Н\nIc = 1377865842.699\nDeltaPc = 0.234 Н\n"
    }
   ],
   "source": [
    "P0c=(Sigmamax-DeltaPr1-DeltaPrt)\n",
    "print(f'P0c = {round(P0c, 3)} Н')\n",
    "p=0.0032\n",
    "zcp=2.345\n",
    "Ac=0.000509\n",
    "Ic= I*10000\n",
    "print(f'Ic = {round(Ic, 3)}')\n",
    "DeltaPc=(Alpha22*p*(1+zcp**2*(Ac/Ic))*P0c)/100\n",
    "print(f'DeltaPc = {round(DeltaPc, 3)} Н')"
   ]
  },
  {
   "cell_type": "code",
   "execution_count": 58,
   "metadata": {},
   "outputs": [
    {
     "output_type": "execute_result",
     "data": {
      "text/plain": "1186.0138773077808"
     },
     "metadata": {},
     "execution_count": 58
    }
   ],
   "source": [
    "Pm0=Sigmamax-DeltaPr1-DeltaPrt-DeltaPc-DeltaP4\n",
    "Pm0"
   ]
  },
  {
   "cell_type": "code",
   "execution_count": 59,
   "metadata": {},
   "outputs": [
    {
     "output_type": "execute_result",
     "data": {
      "text/plain": "True"
     },
     "metadata": {},
     "execution_count": 59
    }
   ],
   "source": [
    "fpk = 840\n",
    "Pm0 <= 0.75 * fpk*1000000 * Ap\n"
   ]
  },
  {
   "cell_type": "markdown",
   "metadata": {},
   "source": [
    "# Розрахунок втрат II групи попереднього напруження"
   ]
  },
  {
   "cell_type": "code",
   "execution_count": 60,
   "metadata": {},
   "outputs": [
    {
     "output_type": "stream",
     "name": "stdout",
     "text": "1310.876838557612\n"
    }
   ],
   "source": [
    "Sigmacqp=(Pm0/Ared)+((Pm0*zcp*yp)/(Ired))-((Mmax*yp)/Ired)\n",
    "print(Sigmacqp)"
   ]
  },
  {
   "cell_type": "code",
   "execution_count": 61,
   "metadata": {},
   "outputs": [
    {
     "output_type": "stream",
     "name": "stdout",
     "text": "DeltaPesr = 2.81\n"
    }
   ],
   "source": [
    "Ecs=0.39\n",
    "DeltaSigmaPr=0.79\n",
    "phi=2\n",
    "Sigma_pcsr_chisl = (Ecs*Ep) + (0.8*DeltaSigmaPr) + ((Ep/Ecm2) * phi * Sigmacqp)\n",
    "Sigma_pcsr_znam = 1 + (((Ep * Ap) / (Ecm2 * Ac)) * (1 + ((Ac / Ic) * zcp**2)) * (1 + (0.8 * phi)))\n",
    "Sigma_pcsr = Sigma_pcsr_chisl / Sigma_pcsr_znam\n",
    "DeltaPesr = Ap * Sigma_pcsr\n",
    "print(f'DeltaPesr = {round(DeltaPesr, 3)}')"
   ]
  },
  {
   "cell_type": "code",
   "execution_count": 62,
   "metadata": {},
   "outputs": [
    {
     "output_type": "stream",
     "name": "stdout",
     "text": "1183.204077682005\n277914.0\n"
    }
   ],
   "source": [
    "DeltaP1t=DeltaPesr\n",
    "Pmt=Pm0-DeltaP1t<0.65*fpk*1000000*Ap\n",
    "print(Pm0-DeltaP1t)\n",
    "print(0.65*fpk*1000000*Ap)"
   ]
  },
  {
   "cell_type": "code",
   "execution_count": 63,
   "metadata": {},
   "outputs": [
    {
     "output_type": "execute_result",
     "data": {
      "text/plain": "1188.8236769335567"
     },
     "metadata": {},
     "execution_count": 63
    }
   ],
   "source": [
    "Pm0+DeltaP1t\n"
   ]
  },
  {
   "cell_type": "markdown",
   "metadata": {},
   "source": [
    "# 6.5 Розрахунок плити на утворення тріщин, нормальних до поздовжньої осі"
   ]
  },
  {
   "cell_type": "code",
   "execution_count": 64,
   "metadata": {},
   "outputs": [
    {
     "output_type": "execute_result",
     "data": {
      "text/plain": "338.1763230664433"
     },
     "metadata": {},
     "execution_count": 64
    }
   ],
   "source": [
    "fctm = 2.6\n",
    "y1=1.3\n",
    "y0= 0.115\n",
    "eop= y0-0.04\n",
    "P2=0.5*Asfact*Sigma-(Pm0+DeltaP1t)\n",
    "P2"
   ]
  },
  {
   "cell_type": "code",
   "execution_count": 65,
   "metadata": {},
   "outputs": [
    {
     "output_type": "execute_result",
     "data": {
      "text/plain": "66.0883302277793"
     },
     "metadata": {},
     "execution_count": 65
    }
   ],
   "source": [
    "r1=0.115\n",
    "Mwult=fctm*y1*Wred+P2*(eop+r1)\n",
    "Mwult"
   ]
  },
  {
   "cell_type": "code",
   "execution_count": 66,
   "metadata": {},
   "outputs": [
    {
     "output_type": "execute_result",
     "data": {
      "text/plain": "True"
     },
     "metadata": {},
     "execution_count": 66
    }
   ],
   "source": [
    "Mwult>Mmax"
   ]
  },
  {
   "cell_type": "markdown",
   "metadata": {},
   "source": [
    "# 6.6 Розрахунок тріщіностійкості плити в стадії виготовлення і транспортування "
   ]
  },
  {
   "cell_type": "code",
   "execution_count": 67,
   "metadata": {},
   "outputs": [
    {
     "output_type": "execute_result",
     "data": {
      "text/plain": "2.0474880000000004"
     },
     "metadata": {},
     "execution_count": 67
    }
   ],
   "source": [
    "g=1.333*1.6*3\n",
    "c=0.8\n",
    "M1=(g*c**2)/2\n",
    "M1"
   ]
  },
  {
   "cell_type": "code",
   "execution_count": 68,
   "metadata": {},
   "outputs": [
    {
     "output_type": "stream",
     "name": "stdout",
     "text": "-18.65999113546807\n1.8348288451550792\n"
    }
   ],
   "source": [
    "P1=(Asfact/10000)*Sigma-Pm0\n",
    "P1*(eop-r1)-Mwult<fctm*y1*Wred\n",
    "print(P1*(eop-r1)-Mwult)\n",
    "print(fctm*y1*Wred)"
   ]
  },
  {
   "cell_type": "markdown",
   "metadata": {},
   "source": [
    "# 6.7 Розрахунок плити за деформаціями\n",
    "\n"
   ]
  },
  {
   "cell_type": "code",
   "execution_count": 69,
   "metadata": {},
   "outputs": [
    {
     "output_type": "stream",
     "name": "stdout",
     "text": "Eceff = 10833.333333 \nIi = 0.001378 \nfcht = 0.001457 м\n"
    }
   ],
   "source": [
    "Eceff=(Ecm2/(1+2))\n",
    "print(f'Eceff = {round(Eceff, 6)} ')\n",
    "alphak=(5/48)\n",
    "M11=(1.456*l0**2)/8\n",
    "Ii=I/100000000\n",
    "print(f'Ii = {round(Ii, 6)} ')\n",
    "fcht=((M11*10**3)/(Eceff*Ii*10**6))*alphak*l0**2\n",
    "print(f'fcht = {round(fcht, 6)} м')"
   ]
  },
  {
   "cell_type": "code",
   "execution_count": 70,
   "metadata": {},
   "outputs": [
    {
     "output_type": "stream",
     "name": "stdout",
     "text": "flt = 0.001174 м\n0.0003328191834097632\n"
    }
   ],
   "source": [
    "M22=(3.52*l0**2)/8\n",
    "flt=((M22*10**3)/(Ecm2*Ii*10**6))*alphak*l0**2\n",
    "print(f'flt = {round(flt, 6)} м')\n",
    "print((M22*10**3)/(Ecm2*Ii*10**6))"
   ]
  },
  {
   "cell_type": "code",
   "execution_count": 71,
   "metadata": {},
   "outputs": [
    {
     "output_type": "stream",
     "name": "stdout",
     "text": "fcp = 2.3981e-06 м\n"
    }
   ],
   "source": [
    "fcp=((P2*eop*l0**2)/(8*Ecm2*Ii*10**6))\n",
    "print(f'fcp = {round(fcp, 10)} м')"
   ]
  },
  {
   "cell_type": "code",
   "execution_count": 72,
   "metadata": {},
   "outputs": [
    {
     "output_type": "stream",
     "name": "stdout",
     "text": "5.8535e-05\n"
    },
    {
     "output_type": "execute_result",
     "data": {
      "text/plain": "-0.03328757843204771"
     },
     "metadata": {},
     "execution_count": 72
    }
   ],
   "source": [
    "alphap=(1/8)\n",
    "Sis=As1*y0+As2*y0\n",
    "print(As1*y0+As2*y0)\n",
    "r2=alphap*((M-Ecs*Es2*Sis)/(Eceff*Ii))\n",
    "r2"
   ]
  },
  {
   "cell_type": "code",
   "execution_count": 73,
   "metadata": {},
   "outputs": [
    {
     "output_type": "stream",
     "name": "stdout",
     "text": "fcs = -0.1409412715 м\n"
    }
   ],
   "source": [
    "fcs=alphap*r2*l0**2\n",
    "print(f'fcs = {round(fcs, 10)} м')"
   ]
  },
  {
   "cell_type": "code",
   "execution_count": 74,
   "metadata": {},
   "outputs": [
    {
     "output_type": "stream",
     "name": "stdout",
     "text": "f = 0.1435703973 м\n"
    }
   ],
   "source": [
    "f=fcht+flt-fcp-fcs\n",
    "print(f'f = {round(f, 10)} м')"
   ]
  },
  {
   "cell_type": "code",
   "execution_count": 75,
   "metadata": {},
   "outputs": [
    {
     "output_type": "execute_result",
     "data": {
      "text/plain": "True"
     },
     "metadata": {},
     "execution_count": 75
    }
   ],
   "source": [
    "f<30"
   ]
  },
  {
   "cell_type": "markdown",
   "metadata": {},
   "source": [
    "# Проектування кроквяної ферми\n",
    "## Нижній розтягнутий пояс"
   ]
  },
  {
   "cell_type": "code",
   "execution_count": 76,
   "metadata": {},
   "outputs": [
    {
     "output_type": "stream",
     "name": "stdout",
     "text": "F1 = 70.6933333333 кНм\n"
    }
   ],
   "source": [
    "gp=3.52\n",
    "S=6\n",
    "gamma1=1.1\n",
    "G1=60\n",
    "n=9\n",
    "F1=gp*3*S+gamma1*(G1/n)\n",
    "print(f'F1 = {round(F1, 10)} кНм')\n"
   ]
  },
  {
   "cell_type": "code",
   "execution_count": 77,
   "metadata": {},
   "outputs": [
    {
     "output_type": "stream",
     "name": "stdout",
     "text": "F2 = 27.25632 кНм\n"
    }
   ],
   "source": [
    "gammafn=1.04\n",
    "pcm=1.456\n",
    "F2=gammafn*pcm*3*S\n",
    "print(f'F2 = {round(F2, 10)} кНм')"
   ]
  },
  {
   "cell_type": "markdown",
   "metadata": {},
   "source": [
    "## Делаем РСУ"
   ]
  },
  {
   "cell_type": "code",
   "execution_count": 78,
   "metadata": {},
   "outputs": [
    {
     "output_type": "stream",
     "name": "stdout",
     "text": "0.11000000000000001\nAsp1 = 0.0004487262 м^2\n"
    }
   ],
   "source": [
    "Nmax1=520.1145\n",
    "h1=0.28\n",
    "b1=0.22\n",
    "ea=0.01\n",
    "ap=0.04\n",
    "d1=h1-ap\n",
    "e=ea+0.5*h1-ap\n",
    "print(ea+0.5*h1-ap)\n",
    "Asp1=(Nmax1*e*10**3)/(fpd*10**6*(d1-ap))\n",
    "print(f'Asp1 = {round(Asp1, 10)} м^2')"
   ]
  },
  {
   "cell_type": "code",
   "execution_count": 79,
   "metadata": {},
   "outputs": [
    {
     "output_type": "stream",
     "name": "stdout",
     "text": "1.6525974025974024\n"
    }
   ],
   "source": [
    "((0.000509+0.000509)/(b1*h1))*100<3\n",
    "print(((0.000509+0.000509)/(b1*h1))*100)"
   ]
  },
  {
   "cell_type": "code",
   "execution_count": 80,
   "metadata": {},
   "outputs": [
    {
     "output_type": "stream",
     "name": "stdout",
     "text": "Asp2 = 0.0003992905 м^2\n"
    }
   ],
   "source": [
    "Nmax2=462.814\n",
    "h1=0.28\n",
    "b1=0.22\n",
    "ea=0.01\n",
    "ap=0.04\n",
    "d1=h1-ap\n",
    "e=ea+0.5*h1-ap\n",
    "Asp2=(Nmax2*e*10**3)/(fpd*10**6*(d1-ap))\n",
    "print(f'Asp2 = {round(Asp2, 10)} м^2')"
   ]
  },
  {
   "cell_type": "code",
   "execution_count": 81,
   "metadata": {},
   "outputs": [
    {
     "output_type": "stream",
     "name": "stdout",
     "text": "1.305194805194805\n"
    }
   ],
   "source": [
    "((0.000402+0.000402)/(b1*h1))*100<3\n",
    "print(((0.000402+0.000402)/(b1*h1))*100)"
   ]
  },
  {
   "cell_type": "markdown",
   "metadata": {},
   "source": [
    "## Верхній пояс та решитки\n"
   ]
  },
  {
   "cell_type": "code",
   "execution_count": 82,
   "metadata": {},
   "outputs": [
    {
     "output_type": "stream",
     "name": "stdout",
     "text": "Ab1 = 0.023523703 м^2\n"
    }
   ],
   "source": [
    "Nmax3=525.99\n",
    "Ab1=(Nmax3*10**3)/(0.8*(17+0.03*365)*10**6)\n",
    "print(f'Ab1 = {round(Ab1, 10)} м^2')"
   ]
  },
  {
   "cell_type": "code",
   "execution_count": 83,
   "metadata": {},
   "outputs": [
    {
     "output_type": "execute_result",
     "data": {
      "text/plain": "2.7"
     },
     "metadata": {},
     "execution_count": 83
    }
   ],
   "source": [
    "L=3\n",
    "l_0=0.9*L\n",
    "l_0"
   ]
  },
  {
   "cell_type": "code",
   "execution_count": 84,
   "metadata": {},
   "outputs": [
    {
     "output_type": "stream",
     "name": "stdout",
     "text": "0.21\n"
    },
    {
     "output_type": "execute_result",
     "data": {
      "text/plain": "0.0005257271249999999"
     },
     "metadata": {},
     "execution_count": 84
    }
   ],
   "source": [
    "h2=0.25\n",
    "b2=0.22\n",
    "d2=h2-ap\n",
    "print(h2-ap)\n",
    "u=1.575\n",
    "I1=u*b2*d2*(0.5*h2-ap)**2\n",
    "I1"
   ]
  },
  {
   "cell_type": "code",
   "execution_count": 96,
   "metadata": {},
   "outputs": [
    {
     "output_type": "stream",
     "name": "stdout",
     "text": "44.709149999999994\n36.91223599999999\n"
    },
    {
     "output_type": "execute_result",
     "data": {
      "text/plain": "1.825608091408582"
     },
     "metadata": {},
     "execution_count": 96
    }
   ],
   "source": [
    "N1=434.2616\n",
    "M1l=N1*((d2-ap)/2)\n",
    "M2l=Nmax3*((d2-ap)/2)\n",
    "print(M2l)\n",
    "print(M1l)\n",
    "phi1=1+1*(M1l/M2l)\n",
    "phi1"
   ]
  },
  {
   "cell_type": "code",
   "execution_count": 97,
   "metadata": {},
   "outputs": [
    {
     "output_type": "stream",
     "name": "stdout",
     "text": "0.00028645833333333333\n"
    },
    {
     "output_type": "execute_result",
     "data": {
      "text/plain": "98878.22246300669"
     },
     "metadata": {},
     "execution_count": 97
    }
   ],
   "source": [
    "Sigmal=0.222\n",
    "phip=1\n",
    "alphal=6.46\n",
    "Im=(b2*h2**3)/12\n",
    "print((b2*h2**3)/12)\n",
    "Ncr=((6.4*Ecm2*10**6)/l_0**2)*((Im/phi1)*(0.11/(0.1+(Sigmal/phip))+0.1)+alphal*I1)/1000\n",
    "Ncr"
   ]
  },
  {
   "cell_type": "code",
   "execution_count": 98,
   "metadata": {},
   "outputs": [
    {
     "output_type": "execute_result",
     "data": {
      "text/plain": "1.005348022986645"
     },
     "metadata": {},
     "execution_count": 98
    }
   ],
   "source": [
    "nu=1/(1-(Nmax3/Ncr))\n",
    "nu"
   ]
  },
  {
   "cell_type": "code",
   "execution_count": 99,
   "metadata": {},
   "outputs": [
    {
     "output_type": "execute_result",
     "data": {
      "text/plain": "0.09505348022986645"
     },
     "metadata": {},
     "execution_count": 99
    }
   ],
   "source": [
    "e1=ea*nu+0.5*h2-ap\n",
    "e1"
   ]
  },
  {
   "cell_type": "code",
   "execution_count": 100,
   "metadata": {},
   "outputs": [
    {
     "output_type": "execute_result",
     "data": {
      "text/plain": "0.6697097020626432"
     },
     "metadata": {},
     "execution_count": 100
    }
   ],
   "source": [
    "n1=(Nmax3*10**3)/(17*10**6*b2*d2)\n",
    "n1"
   ]
  },
  {
   "cell_type": "markdown",
   "metadata": {},
   "source": [
    "## Учитываем замену fyd на сигмас"
   ]
  },
  {
   "cell_type": "code",
   "execution_count": 101,
   "metadata": {},
   "outputs": [
    {
     "output_type": "stream",
     "name": "stdout",
     "text": "0.1406390374331551\nSigmas = 1018.3156482746 мПа\n"
    }
   ],
   "source": [
    "zettar=0.8257\n",
    "x=(Nmax3*10**3)/(17*10**6*b2)\n",
    "print((Nmax3*10**3)/(17*10**6*b2))\n",
    "Sigmas=(2*((1-((x)/d2))/(1-zettar))-1)*365\n",
    "print(f'Sigmas = {round(Sigmas, 10)} мПа')"
   ]
  },
  {
   "cell_type": "code",
   "execution_count": 102,
   "metadata": {},
   "outputs": [
    {
     "output_type": "stream",
     "name": "stdout",
     "text": "As = -0.0001355951 м2\n"
    }
   ],
   "source": [
    "As=((Nmax3*10**3*e1-17*10**6*b2*x*(d2-0.5*x))/(Sigmas*10**6*(d2-ap)))\n",
    "print(f'As = {round(As, 10)} м2')"
   ]
  },
  {
   "cell_type": "code",
   "execution_count": 104,
   "metadata": {},
   "outputs": [
    {
     "output_type": "execute_result",
     "data": {
      "text/plain": "0.9783549783549783"
     },
     "metadata": {},
     "execution_count": 104
    }
   ],
   "source": [
    "u2=((2.26+2.26)/(22*21))*100\n",
    "u2"
   ]
  },
  {
   "cell_type": "code",
   "execution_count": null,
   "metadata": {},
   "outputs": [],
   "source": []
  }
 ],
 "metadata": {
  "kernelspec": {
   "display_name": "Python 3",
   "language": "python",
   "name": "python3"
  },
  "language_info": {
   "codemirror_mode": {
    "name": "ipython",
    "version": 3
   },
   "file_extension": ".py",
   "mimetype": "text/x-python",
   "name": "python",
   "nbconvert_exporter": "python",
   "pygments_lexer": "ipython3",
   "version": "3.7.4-final"
  }
 },
 "nbformat": 4,
 "nbformat_minor": 2
}