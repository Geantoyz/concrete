{
 "cells": [
  {
   "cell_type": "code",
   "execution_count": 1,
   "metadata": {},
   "outputs": [],
   "source": [
    "p3=93.83\n",
    "p4=81.89\n",
    "P_max=105.8\n",
    "P_min=15.74\n",
    "l=3.3\n",
    "a1=2.425\n",
    "hn=1.55\n",
    "b=2.7\n",
    "b1=2.425\n",
    "bn=0.95\n",
    "fyd=365*10**6\n",
    "d=0.4"
   ]
  },
  {
   "cell_type": "code",
   "execution_count": 2,
   "metadata": {},
   "outputs": [
    {
     "output_type": "stream",
     "name": "stdout",
     "text": "25.7920400390625\n"
    }
   ],
   "source": [
    "M3_3=(b*(p3+P_max)*((l-a1)**2))/16\n",
    "print(M3_3)"
   ]
  },
  {
   "cell_type": "code",
   "execution_count": 3,
   "metadata": {},
   "outputs": [
    {
     "output_type": "stream",
     "name": "stdout",
     "text": "96.99760546874998\n"
    }
   ],
   "source": [
    "M4_4=(b*(p4+P_max)*((l-hn)**2))/16\n",
    "print(M4_4)"
   ]
  },
  {
   "cell_type": "code",
   "execution_count": 4,
   "metadata": {},
   "outputs": [
    {
     "output_type": "stream",
     "name": "stdout",
     "text": "1.8957391406250046\n"
    }
   ],
   "source": [
    "M5_5=(l*(P_max+P_min)*((b-b1)**2))/16\n",
    "print(M5_5)"
   ]
  },
  {
   "cell_type": "code",
   "execution_count": 5,
   "metadata": {},
   "outputs": [
    {
     "output_type": "stream",
     "name": "stdout",
     "text": "76.76960156250001\n"
    }
   ],
   "source": [
    "M6_6=(l*(P_max+P_min)*((b-bn)**2))/16\n",
    "print(M6_6)"
   ]
  },
  {
   "cell_type": "code",
   "execution_count": 6,
   "metadata": {
    "scrolled": true
   },
   "outputs": [
    {
     "output_type": "stream",
     "name": "stdout",
     "text": "0.00019628645387414383\n"
    }
   ],
   "source": [
    "As3_3=(M3_3*10**3)/(fyd*0.9*d)\n",
    "print(As3_3)"
   ]
  },
  {
   "cell_type": "code",
   "execution_count": 7,
   "metadata": {},
   "outputs": [
    {
     "output_type": "stream",
     "name": "stdout",
     "text": "0.0007381857341609588\n"
    }
   ],
   "source": [
    "As4_4=(M4_4*10**3)/(fyd*0.9*d)\n",
    "print(As4_4)"
   ]
  },
  {
   "cell_type": "code",
   "execution_count": 8,
   "metadata": {},
   "outputs": [
    {
     "output_type": "stream",
     "name": "stdout",
     "text": "1.442723851312789e-05\n"
    }
   ],
   "source": [
    "As5_5=(M5_5*10**3)/(fyd*0.9*d)\n",
    "print(As5_5)"
   ]
  },
  {
   "cell_type": "code",
   "execution_count": 9,
   "metadata": {},
   "outputs": [
    {
     "output_type": "stream",
     "name": "stdout",
     "text": "0.0005842435430936074\n"
    }
   ],
   "source": [
    "As6_6=(M6_6*10**3)/(fyd*0.9*d)\n",
    "print(As6_6)"
   ]
  },
  {
   "cell_type": "code",
   "execution_count": null,
   "metadata": {},
   "outputs": [],
   "source": []
  }
 ],
 "metadata": {
  "kernelspec": {
   "display_name": "Python 3",
   "language": "python",
   "name": "python3"
  },
  "language_info": {
   "codemirror_mode": {
    "name": "ipython",
    "version": 3
   },
   "file_extension": ".py",
   "mimetype": "text/x-python",
   "name": "python",
   "nbconvert_exporter": "python",
   "pygments_lexer": "ipython3",
   "version": "3.7.6-final"
  }
 },
 "nbformat": 4,
 "nbformat_minor": 2
}